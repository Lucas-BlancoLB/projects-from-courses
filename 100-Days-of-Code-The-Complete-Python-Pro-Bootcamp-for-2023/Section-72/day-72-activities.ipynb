{
 "cells": [
  {
   "cell_type": "code",
   "execution_count": 1,
   "id": "5f82042c-b6f6-419c-aa13-0d3e6921b541",
   "metadata": {},
   "outputs": [],
   "source": [
    "import pandas as pd \n",
    "import numpy as np"
   ]
  },
  {
   "cell_type": "code",
   "execution_count": 2,
   "id": "64cdafbf-68e9-461c-abbf-7517a538eff6",
   "metadata": {},
   "outputs": [],
   "source": [
    "\n",
    "# Now that we've found the major with the highest starting salary, can you write the code to find the following:\n",
    "\n",
    "#     What college major has the highest mid-career salary? How much do graduates with this major earn? (Mid-career is defined as having 10+ years of experience).\n",
    "\n",
    "#     Which college major has the lowest starting salary and how much do graduates earn after university?\n",
    "\n",
    "#     Which college major has the lowest mid-career salary and how much can people expect to earn with this degree? \n",
    "\n",
    "# I'll provide the solution and the code snippets in the next lesson =) "
   ]
  },
  {
   "cell_type": "code",
   "execution_count": 3,
   "id": "e438f01a-399c-47fe-888b-04b9b7b29a68",
   "metadata": {},
   "outputs": [],
   "source": [
    "df = pd.read_csv(\"salaries_by_college_major.csv\", index_col=False)"
   ]
  },
  {
   "cell_type": "code",
   "execution_count": 4,
   "id": "a9445ad3-ba46-4bf0-bd30-7782a19cd5f0",
   "metadata": {
    "scrolled": true
   },
   "outputs": [
    {
     "data": {
      "text/html": [
       "<div>\n",
       "<style scoped>\n",
       "    .dataframe tbody tr th:only-of-type {\n",
       "        vertical-align: middle;\n",
       "    }\n",
       "\n",
       "    .dataframe tbody tr th {\n",
       "        vertical-align: top;\n",
       "    }\n",
       "\n",
       "    .dataframe thead th {\n",
       "        text-align: right;\n",
       "    }\n",
       "</style>\n",
       "<table border=\"1\" class=\"dataframe\">\n",
       "  <thead>\n",
       "    <tr style=\"text-align: right;\">\n",
       "      <th></th>\n",
       "      <th>Undergraduate Major</th>\n",
       "      <th>Starting Median Salary</th>\n",
       "      <th>Mid-Career Median Salary</th>\n",
       "      <th>Mid-Career 10th Percentile Salary</th>\n",
       "      <th>Mid-Career 90th Percentile Salary</th>\n",
       "      <th>Group</th>\n",
       "    </tr>\n",
       "  </thead>\n",
       "  <tbody>\n",
       "    <tr>\n",
       "      <th>50</th>\n",
       "      <td>Source: PayScale Inc.</td>\n",
       "      <td>NaN</td>\n",
       "      <td>NaN</td>\n",
       "      <td>NaN</td>\n",
       "      <td>NaN</td>\n",
       "      <td>NaN</td>\n",
       "    </tr>\n",
       "  </tbody>\n",
       "</table>\n",
       "</div>"
      ],
      "text/plain": [
       "      Undergraduate Major  Starting Median Salary  Mid-Career Median Salary  \\\n",
       "50  Source: PayScale Inc.                     NaN                       NaN   \n",
       "\n",
       "    Mid-Career 10th Percentile Salary  Mid-Career 90th Percentile Salary Group  \n",
       "50                                NaN                                NaN   NaN  "
      ]
     },
     "execution_count": 4,
     "metadata": {},
     "output_type": "execute_result"
    }
   ],
   "source": [
    "bad_values_dbug = df[df.isnull().any(axis=1)]\n",
    "bad_values_dbug"
   ]
  },
  {
   "cell_type": "code",
   "execution_count": 5,
   "id": "9fd1d528-be48-4dc4-ada9-8a05de127f49",
   "metadata": {},
   "outputs": [],
   "source": [
    "df = df.dropna()"
   ]
  },
  {
   "cell_type": "code",
   "execution_count": 6,
   "id": "d32d05c3-9234-49af-b366-84325f9db960",
   "metadata": {},
   "outputs": [
    {
     "data": {
      "text/plain": [
       "np.int64(8)"
      ]
     },
     "execution_count": 6,
     "metadata": {},
     "output_type": "execute_result"
    }
   ],
   "source": [
    "df.iloc[:, 2].idxmax()"
   ]
  },
  {
   "cell_type": "code",
   "execution_count": 7,
   "id": "04edb274-9660-4040-99db-fb956b05151f",
   "metadata": {},
   "outputs": [
    {
     "data": {
      "text/plain": [
       "Undergraduate Major         Chemical Engineering\n",
       "Starting Median Salary                   63200.0\n",
       "Mid-Career Median Salary                107000.0\n",
       "Name: 8, dtype: object"
      ]
     },
     "execution_count": 7,
     "metadata": {},
     "output_type": "execute_result"
    }
   ],
   "source": [
    "df.iloc[8, 0:3:]  # Answer 1 Q"
   ]
  },
  {
   "cell_type": "code",
   "execution_count": 8,
   "id": "3339d978-dbd8-4971-b7ef-5e2815fad3a7",
   "metadata": {},
   "outputs": [
    {
     "data": {
      "text/plain": [
       "np.int64(49)"
      ]
     },
     "execution_count": 8,
     "metadata": {},
     "output_type": "execute_result"
    }
   ],
   "source": [
    "df.iloc[:, 1].idxmin()"
   ]
  },
  {
   "cell_type": "code",
   "execution_count": 9,
   "id": "c4b5e7d7-dd3d-4b92-8f42-9c897dac99d8",
   "metadata": {},
   "outputs": [
    {
     "data": {
      "text/plain": [
       "Undergraduate Major       Spanish\n",
       "Starting Median Salary    34000.0\n",
       "Name: 49, dtype: object"
      ]
     },
     "execution_count": 9,
     "metadata": {},
     "output_type": "execute_result"
    }
   ],
   "source": [
    "df.iloc[49, 0:2]"
   ]
  },
  {
   "cell_type": "code",
   "execution_count": 10,
   "id": "617ac2df-37b5-4e69-9117-9f173d686241",
   "metadata": {},
   "outputs": [
    {
     "data": {
      "text/plain": [
       "np.int64(18)"
      ]
     },
     "execution_count": 10,
     "metadata": {},
     "output_type": "execute_result"
    }
   ],
   "source": [
    "df.iloc[:, 2].idxmin()"
   ]
  },
  {
   "cell_type": "code",
   "execution_count": 11,
   "id": "d13703cd-9335-4612-b196-c8b99bda7257",
   "metadata": {},
   "outputs": [
    {
     "data": {
      "text/plain": [
       "Undergraduate Major                  Education\n",
       "Mid-Career Median Salary               52000.0\n",
       "Mid-Career 90th Percentile Salary     102000.0\n",
       "Name: 18, dtype: object"
      ]
     },
     "execution_count": 11,
     "metadata": {},
     "output_type": "execute_result"
    }
   ],
   "source": [
    "df.iloc[18, 0:5:2]"
   ]
  },
  {
   "cell_type": "code",
   "execution_count": null,
   "id": "33855eea-45f8-4726-a11f-ea6534202849",
   "metadata": {},
   "outputs": [],
   "source": []
  },
  {
   "cell_type": "code",
   "execution_count": 12,
   "id": "09adf5aa-f2a5-4097-a8e6-979f307dcae0",
   "metadata": {},
   "outputs": [
    {
     "data": {
      "text/plain": [
       "np.int64(17)"
      ]
     },
     "execution_count": 12,
     "metadata": {},
     "output_type": "execute_result"
    }
   ],
   "source": [
    "(df.iloc[:, 4] - df.iloc[:, 3]).idxmax()"
   ]
  },
  {
   "cell_type": "code",
   "execution_count": 13,
   "id": "d6d6a735-ca60-423b-a250-7b5febf39026",
   "metadata": {},
   "outputs": [
    {
     "data": {
      "text/plain": [
       "Undergraduate Major                  Economics\n",
       "Mid-Career 10th Percentile Salary      50600.0\n",
       "Mid-Career 90th Percentile Salary     210000.0\n",
       "Name: 17, dtype: object"
      ]
     },
     "execution_count": 13,
     "metadata": {},
     "output_type": "execute_result"
    }
   ],
   "source": [
    "df.iloc[17, [0,3,4]]"
   ]
  },
  {
   "cell_type": "code",
   "execution_count": null,
   "id": "4da16978-d4b3-4c42-ad18-0cc347e7c2ae",
   "metadata": {},
   "outputs": [],
   "source": []
  },
  {
   "cell_type": "code",
   "execution_count": 14,
   "id": "21ad4031-ed6c-49c1-8d11-d189f37d1399",
   "metadata": {},
   "outputs": [
    {
     "data": {
      "text/plain": [
       "np.int64(17)"
      ]
     },
     "execution_count": 14,
     "metadata": {},
     "output_type": "execute_result"
    }
   ],
   "source": [
    "df.iloc[:, 4].subtract(df.iloc[:, 3]).idxmax()"
   ]
  },
  {
   "cell_type": "code",
   "execution_count": null,
   "id": "03d60e97-1570-4094-83db-c8105a2d65d1",
   "metadata": {},
   "outputs": [],
   "source": []
  },
  {
   "cell_type": "code",
   "execution_count": 15,
   "id": "8b45d836-a023-4903-96fc-888fdf7623e1",
   "metadata": {},
   "outputs": [
    {
     "data": {
      "text/plain": [
       "Undergraduate Major                  Economics\n",
       "Mid-Career 10th Percentile Salary      50600.0\n",
       "Mid-Career 90th Percentile Salary     210000.0\n",
       "Name: 17, dtype: object"
      ]
     },
     "execution_count": 15,
     "metadata": {},
     "output_type": "execute_result"
    }
   ],
   "source": [
    "df.iloc[17, [0, 3, 4]]"
   ]
  },
  {
   "cell_type": "code",
   "execution_count": 16,
   "id": "9bb24616-ec65-493e-a879-754a7e046f79",
   "metadata": {},
   "outputs": [
    {
     "data": {
      "text/plain": [
       "Undergraduate Major                  Economics\n",
       "Mid-Career 10th Percentile Salary      50600.0\n",
       "Mid-Career 90th Percentile Salary     210000.0\n",
       "Name: 17, dtype: object"
      ]
     },
     "execution_count": 16,
     "metadata": {},
     "output_type": "execute_result"
    }
   ],
   "source": [
    "df.iloc[df.iloc[:,4].subtract(df.iloc[:,3]).idxmax(), [0, 3, 4]]"
   ]
  },
  {
   "cell_type": "code",
   "execution_count": null,
   "id": "dc7946c2-34b4-46cf-b70f-866e1a66e134",
   "metadata": {},
   "outputs": [],
   "source": []
  },
  {
   "cell_type": "code",
   "execution_count": 17,
   "id": "38b57f8d-8a77-4a63-94ed-1b189aa78e7d",
   "metadata": {},
   "outputs": [
    {
     "data": {
      "text/html": [
       "<div>\n",
       "<style scoped>\n",
       "    .dataframe tbody tr th:only-of-type {\n",
       "        vertical-align: middle;\n",
       "    }\n",
       "\n",
       "    .dataframe tbody tr th {\n",
       "        vertical-align: top;\n",
       "    }\n",
       "\n",
       "    .dataframe thead th {\n",
       "        text-align: right;\n",
       "    }\n",
       "</style>\n",
       "<table border=\"1\" class=\"dataframe\">\n",
       "  <thead>\n",
       "    <tr style=\"text-align: right;\">\n",
       "      <th></th>\n",
       "      <th>Undergraduate Major</th>\n",
       "      <th>Spread</th>\n",
       "      <th>Starting Median Salary</th>\n",
       "      <th>Mid-Career Median Salary</th>\n",
       "      <th>Mid-Career 10th Percentile Salary</th>\n",
       "      <th>Mid-Career 90th Percentile Salary</th>\n",
       "      <th>Group</th>\n",
       "    </tr>\n",
       "  </thead>\n",
       "  <tbody>\n",
       "    <tr>\n",
       "      <th>0</th>\n",
       "      <td>Accounting</td>\n",
       "      <td>109800.0</td>\n",
       "      <td>46000.0</td>\n",
       "      <td>77100.0</td>\n",
       "      <td>42200.0</td>\n",
       "      <td>152000.0</td>\n",
       "      <td>Business</td>\n",
       "    </tr>\n",
       "    <tr>\n",
       "      <th>1</th>\n",
       "      <td>Aerospace Engineering</td>\n",
       "      <td>96700.0</td>\n",
       "      <td>57700.0</td>\n",
       "      <td>101000.0</td>\n",
       "      <td>64300.0</td>\n",
       "      <td>161000.0</td>\n",
       "      <td>STEM</td>\n",
       "    </tr>\n",
       "    <tr>\n",
       "      <th>2</th>\n",
       "      <td>Agriculture</td>\n",
       "      <td>113700.0</td>\n",
       "      <td>42600.0</td>\n",
       "      <td>71900.0</td>\n",
       "      <td>36300.0</td>\n",
       "      <td>150000.0</td>\n",
       "      <td>Business</td>\n",
       "    </tr>\n",
       "  </tbody>\n",
       "</table>\n",
       "</div>"
      ],
      "text/plain": [
       "     Undergraduate Major    Spread  Starting Median Salary  \\\n",
       "0             Accounting  109800.0                 46000.0   \n",
       "1  Aerospace Engineering   96700.0                 57700.0   \n",
       "2            Agriculture  113700.0                 42600.0   \n",
       "\n",
       "   Mid-Career Median Salary  Mid-Career 10th Percentile Salary  \\\n",
       "0                   77100.0                            42200.0   \n",
       "1                  101000.0                            64300.0   \n",
       "2                   71900.0                            36300.0   \n",
       "\n",
       "   Mid-Career 90th Percentile Salary     Group  \n",
       "0                           152000.0  Business  \n",
       "1                           161000.0      STEM  \n",
       "2                           150000.0  Business  "
      ]
     },
     "execution_count": 17,
     "metadata": {},
     "output_type": "execute_result"
    }
   ],
   "source": [
    "custom_df = df.copy() \n",
    "custom_df.insert(1, \"Spread\", custom_df.iloc[:, 4] - custom_df.iloc[:, 3])\n",
    "custom_df.head(3)"
   ]
  },
  {
   "cell_type": "code",
   "execution_count": 18,
   "id": "9a6b3568-c6f4-401d-af52-664c3ae02974",
   "metadata": {},
   "outputs": [
    {
     "data": {
      "text/html": [
       "<div>\n",
       "<style scoped>\n",
       "    .dataframe tbody tr th:only-of-type {\n",
       "        vertical-align: middle;\n",
       "    }\n",
       "\n",
       "    .dataframe tbody tr th {\n",
       "        vertical-align: top;\n",
       "    }\n",
       "\n",
       "    .dataframe thead th {\n",
       "        text-align: right;\n",
       "    }\n",
       "</style>\n",
       "<table border=\"1\" class=\"dataframe\">\n",
       "  <thead>\n",
       "    <tr style=\"text-align: right;\">\n",
       "      <th></th>\n",
       "      <th>Undergraduate Major</th>\n",
       "      <th>Spread</th>\n",
       "      <th>Starting Median Salary</th>\n",
       "      <th>Mid-Career Median Salary</th>\n",
       "      <th>Mid-Career 10th Percentile Salary</th>\n",
       "      <th>Mid-Career 90th Percentile Salary</th>\n",
       "      <th>Group</th>\n",
       "    </tr>\n",
       "  </thead>\n",
       "  <tbody>\n",
       "    <tr>\n",
       "      <th>0</th>\n",
       "      <td>Economics</td>\n",
       "      <td>159400.0</td>\n",
       "      <td>50100.0</td>\n",
       "      <td>98600.0</td>\n",
       "      <td>50600.0</td>\n",
       "      <td>210000.0</td>\n",
       "      <td>Business</td>\n",
       "    </tr>\n",
       "    <tr>\n",
       "      <th>1</th>\n",
       "      <td>Finance</td>\n",
       "      <td>147800.0</td>\n",
       "      <td>47900.0</td>\n",
       "      <td>88300.0</td>\n",
       "      <td>47200.0</td>\n",
       "      <td>195000.0</td>\n",
       "      <td>Business</td>\n",
       "    </tr>\n",
       "    <tr>\n",
       "      <th>2</th>\n",
       "      <td>Math</td>\n",
       "      <td>137800.0</td>\n",
       "      <td>45400.0</td>\n",
       "      <td>92400.0</td>\n",
       "      <td>45200.0</td>\n",
       "      <td>183000.0</td>\n",
       "      <td>STEM</td>\n",
       "    </tr>\n",
       "  </tbody>\n",
       "</table>\n",
       "</div>"
      ],
      "text/plain": [
       "  Undergraduate Major    Spread  Starting Median Salary  \\\n",
       "0           Economics  159400.0                 50100.0   \n",
       "1             Finance  147800.0                 47900.0   \n",
       "2                Math  137800.0                 45400.0   \n",
       "\n",
       "   Mid-Career Median Salary  Mid-Career 10th Percentile Salary  \\\n",
       "0                   98600.0                            50600.0   \n",
       "1                   88300.0                            47200.0   \n",
       "2                   92400.0                            45200.0   \n",
       "\n",
       "   Mid-Career 90th Percentile Salary     Group  \n",
       "0                           210000.0  Business  \n",
       "1                           195000.0  Business  \n",
       "2                           183000.0      STEM  "
      ]
     },
     "execution_count": 18,
     "metadata": {},
     "output_type": "execute_result"
    }
   ],
   "source": [
    "custom_df_sorted = custom_df.sort_values(\"Spread\", ascending=False)\n",
    "custom_df_new_index = custom_df_sorted.reset_index(drop=True)\n",
    "custom_df_new_index.head(3)"
   ]
  },
  {
   "cell_type": "code",
   "execution_count": null,
   "id": "804604c0-864e-422f-8754-715abe393afe",
   "metadata": {},
   "outputs": [],
   "source": []
  },
  {
   "cell_type": "code",
   "execution_count": 19,
   "id": "596b4a3c-a525-42f0-81c8-84cd35ff5298",
   "metadata": {},
   "outputs": [
    {
     "data": {
      "text/html": [
       "<div>\n",
       "<style scoped>\n",
       "    .dataframe tbody tr th:only-of-type {\n",
       "        vertical-align: middle;\n",
       "    }\n",
       "\n",
       "    .dataframe tbody tr th {\n",
       "        vertical-align: top;\n",
       "    }\n",
       "\n",
       "    .dataframe thead th {\n",
       "        text-align: right;\n",
       "    }\n",
       "</style>\n",
       "<table border=\"1\" class=\"dataframe\">\n",
       "  <thead>\n",
       "    <tr style=\"text-align: right;\">\n",
       "      <th></th>\n",
       "      <th>Undergraduate Major</th>\n",
       "      <th>Spread</th>\n",
       "      <th>Starting Median Salary</th>\n",
       "      <th>Mid-Career Median Salary</th>\n",
       "      <th>Mid-Career 10th Percentile Salary</th>\n",
       "      <th>Mid-Career 90th Percentile Salary</th>\n",
       "      <th>Group</th>\n",
       "    </tr>\n",
       "  </thead>\n",
       "  <tbody>\n",
       "    <tr>\n",
       "      <th>17</th>\n",
       "      <td>Economics</td>\n",
       "      <td>159400.0</td>\n",
       "      <td>50100.0</td>\n",
       "      <td>98600.0</td>\n",
       "      <td>50600.0</td>\n",
       "      <td>210000.0</td>\n",
       "      <td>Business</td>\n",
       "    </tr>\n",
       "    <tr>\n",
       "      <th>22</th>\n",
       "      <td>Finance</td>\n",
       "      <td>147800.0</td>\n",
       "      <td>47900.0</td>\n",
       "      <td>88300.0</td>\n",
       "      <td>47200.0</td>\n",
       "      <td>195000.0</td>\n",
       "      <td>Business</td>\n",
       "    </tr>\n",
       "    <tr>\n",
       "      <th>8</th>\n",
       "      <td>Chemical Engineering</td>\n",
       "      <td>122100.0</td>\n",
       "      <td>63200.0</td>\n",
       "      <td>107000.0</td>\n",
       "      <td>71900.0</td>\n",
       "      <td>194000.0</td>\n",
       "      <td>STEM</td>\n",
       "    </tr>\n",
       "    <tr>\n",
       "      <th>37</th>\n",
       "      <td>Math</td>\n",
       "      <td>137800.0</td>\n",
       "      <td>45400.0</td>\n",
       "      <td>92400.0</td>\n",
       "      <td>45200.0</td>\n",
       "      <td>183000.0</td>\n",
       "      <td>STEM</td>\n",
       "    </tr>\n",
       "    <tr>\n",
       "      <th>44</th>\n",
       "      <td>Physics</td>\n",
       "      <td>122000.0</td>\n",
       "      <td>50300.0</td>\n",
       "      <td>97300.0</td>\n",
       "      <td>56000.0</td>\n",
       "      <td>178000.0</td>\n",
       "      <td>STEM</td>\n",
       "    </tr>\n",
       "  </tbody>\n",
       "</table>\n",
       "</div>"
      ],
      "text/plain": [
       "     Undergraduate Major    Spread  Starting Median Salary  \\\n",
       "17             Economics  159400.0                 50100.0   \n",
       "22               Finance  147800.0                 47900.0   \n",
       "8   Chemical Engineering  122100.0                 63200.0   \n",
       "37                  Math  137800.0                 45400.0   \n",
       "44               Physics  122000.0                 50300.0   \n",
       "\n",
       "    Mid-Career Median Salary  Mid-Career 10th Percentile Salary  \\\n",
       "17                   98600.0                            50600.0   \n",
       "22                   88300.0                            47200.0   \n",
       "8                   107000.0                            71900.0   \n",
       "37                   92400.0                            45200.0   \n",
       "44                   97300.0                            56000.0   \n",
       "\n",
       "    Mid-Career 90th Percentile Salary     Group  \n",
       "17                           210000.0  Business  \n",
       "22                           195000.0  Business  \n",
       "8                            194000.0      STEM  \n",
       "37                           183000.0      STEM  \n",
       "44                           178000.0      STEM  "
      ]
     },
     "execution_count": 19,
     "metadata": {},
     "output_type": "execute_result"
    }
   ],
   "source": [
    "\n",
    "custom_df_sorted.sort_values(\"Mid-Career 90th Percentile Salary\", ascending=False).head()"
   ]
  },
  {
   "cell_type": "code",
   "execution_count": 60,
   "id": "d4752b51-0ab0-4ea1-bd39-c5e099056389",
   "metadata": {},
   "outputs": [
    {
     "data": {
      "text/html": [
       "<style type=\"text/css\">\n",
       "</style>\n",
       "<table id=\"T_6e45b\">\n",
       "  <thead>\n",
       "    <tr>\n",
       "      <th class=\"blank level0\" >&nbsp;</th>\n",
       "      <th id=\"T_6e45b_level0_col0\" class=\"col_heading level0 col0\" >Spread</th>\n",
       "      <th id=\"T_6e45b_level0_col1\" class=\"col_heading level0 col1\" >Starting Median Salary</th>\n",
       "      <th id=\"T_6e45b_level0_col2\" class=\"col_heading level0 col2\" >Mid-Career Median Salary</th>\n",
       "      <th id=\"T_6e45b_level0_col3\" class=\"col_heading level0 col3\" >Mid-Career 10th Percentile Salary</th>\n",
       "      <th id=\"T_6e45b_level0_col4\" class=\"col_heading level0 col4\" >Mid-Career 90th Percentile Salary</th>\n",
       "    </tr>\n",
       "    <tr>\n",
       "      <th class=\"index_name level0\" >Group</th>\n",
       "      <th class=\"blank col0\" >&nbsp;</th>\n",
       "      <th class=\"blank col1\" >&nbsp;</th>\n",
       "      <th class=\"blank col2\" >&nbsp;</th>\n",
       "      <th class=\"blank col3\" >&nbsp;</th>\n",
       "      <th class=\"blank col4\" >&nbsp;</th>\n",
       "    </tr>\n",
       "  </thead>\n",
       "  <tbody>\n",
       "    <tr>\n",
       "      <th id=\"T_6e45b_level0_row0\" class=\"row_heading level0 row0\" >Business</th>\n",
       "      <td id=\"T_6e45b_row0_col0\" class=\"data row0 col0\" >103,958.33</td>\n",
       "      <td id=\"T_6e45b_row0_col1\" class=\"data row0 col1\" >44,633.33</td>\n",
       "      <td id=\"T_6e45b_row0_col2\" class=\"data row0 col2\" >75,083.33</td>\n",
       "      <td id=\"T_6e45b_row0_col3\" class=\"data row0 col3\" >43,566.67</td>\n",
       "      <td id=\"T_6e45b_row0_col4\" class=\"data row0 col4\" >147,525.00</td>\n",
       "    </tr>\n",
       "    <tr>\n",
       "      <th id=\"T_6e45b_level0_row1\" class=\"row_heading level0 row1\" >HASS</th>\n",
       "      <td id=\"T_6e45b_row1_col0\" class=\"data row1 col0\" >95,218.18</td>\n",
       "      <td id=\"T_6e45b_row1_col1\" class=\"data row1 col1\" >37,186.36</td>\n",
       "      <td id=\"T_6e45b_row1_col2\" class=\"data row1 col2\" >62,968.18</td>\n",
       "      <td id=\"T_6e45b_row1_col3\" class=\"data row1 col3\" >34,145.45</td>\n",
       "      <td id=\"T_6e45b_row1_col4\" class=\"data row1 col4\" >129,363.64</td>\n",
       "    </tr>\n",
       "    <tr>\n",
       "      <th id=\"T_6e45b_level0_row2\" class=\"row_heading level0 row2\" >STEM</th>\n",
       "      <td id=\"T_6e45b_row2_col0\" class=\"data row2 col0\" >101,600.00</td>\n",
       "      <td id=\"T_6e45b_row2_col1\" class=\"data row2 col1\" >53,862.50</td>\n",
       "      <td id=\"T_6e45b_row2_col2\" class=\"data row2 col2\" >90,812.50</td>\n",
       "      <td id=\"T_6e45b_row2_col3\" class=\"data row2 col3\" >56,025.00</td>\n",
       "      <td id=\"T_6e45b_row2_col4\" class=\"data row2 col4\" >157,625.00</td>\n",
       "    </tr>\n",
       "  </tbody>\n",
       "</table>\n"
      ],
      "text/plain": [
       "<pandas.io.formats.style.Styler at 0x2a987603450>"
      ]
     },
     "execution_count": 60,
     "metadata": {},
     "output_type": "execute_result"
    }
   ],
   "source": [
    "groups_num_df = custom_df_sorted.groupby(\"Group\").mean(numeric_only=True)\n",
    "groups_num_df.style.format('{:,.2f}') # values has to be num type"
   ]
  },
  {
   "cell_type": "code",
   "execution_count": null,
   "id": "2decfe0d-f3e2-44f8-9d89-521670b7c653",
   "metadata": {},
   "outputs": [],
   "source": []
  },
  {
   "cell_type": "code",
   "execution_count": 64,
   "id": "21dbc274-b81a-4de6-910a-bda9379876a8",
   "metadata": {},
   "outputs": [],
   "source": [
    "pd.options.display.float_format = '{:,.2f}'.format"
   ]
  }
 ],
 "metadata": {
  "kernelspec": {
   "display_name": "Python 3 (ipykernel)",
   "language": "python",
   "name": "python3"
  },
  "language_info": {
   "codemirror_mode": {
    "name": "ipython",
    "version": 3
   },
   "file_extension": ".py",
   "mimetype": "text/x-python",
   "name": "python",
   "nbconvert_exporter": "python",
   "pygments_lexer": "ipython3",
   "version": "3.11.4"
  }
 },
 "nbformat": 4,
 "nbformat_minor": 5
}
