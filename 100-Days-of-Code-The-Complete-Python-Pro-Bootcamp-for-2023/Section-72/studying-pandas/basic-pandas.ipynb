{
 "cells": [
  {
   "cell_type": "code",
   "execution_count": 1,
   "id": "0047f730-9a9b-48fa-9308-d6ea19e4eb5c",
   "metadata": {},
   "outputs": [],
   "source": [
    "import pandas as pd\n",
    "import numpy as np"
   ]
  },
  {
   "cell_type": "code",
   "execution_count": 2,
   "id": "212279a7-c1a8-47fd-9074-dec4aad38cef",
   "metadata": {},
   "outputs": [],
   "source": [
    "data = [\"car\", \"pool\", \"elephant\", \"zoo\", \"lapis\", \"ball\"]\n",
    "index = pd.date_range(start=\"02/11/2024\", periods=6)"
   ]
  },
  {
   "cell_type": "code",
   "execution_count": 3,
   "id": "f52588dd-db2d-42f2-82b5-088ed9b81400",
   "metadata": {},
   "outputs": [
    {
     "data": {
      "text/plain": [
       "2024-02-11         car\n",
       "2024-02-12        pool\n",
       "2024-02-13    elephant\n",
       "2024-02-14         zoo\n",
       "2024-02-15       lapis\n",
       "2024-02-16        ball\n",
       "Freq: D, Name: My-table, dtype: object"
      ]
     },
     "execution_count": 3,
     "metadata": {},
     "output_type": "execute_result"
    }
   ],
   "source": [
    "s = pd.Series(data=data, index=index, name=\"My-table\")\n",
    "\n",
    "s"
   ]
  },
  {
   "cell_type": "code",
   "execution_count": null,
   "id": "6326f822-e7a7-4328-a052-dc4c4de32be2",
   "metadata": {},
   "outputs": [],
   "source": []
  },
  {
   "cell_type": "code",
   "execution_count": 4,
   "id": "dbe55165-0f40-4a1f-aab0-350a44186e1a",
   "metadata": {},
   "outputs": [],
   "source": [
    "label = [\"A\", \"B\", \"C\", \"D\", \"E\", \"F\"]\n",
    "rand_data = np.random.rand(6,6)"
   ]
  },
  {
   "cell_type": "code",
   "execution_count": 5,
   "id": "0cbccc92-9fe5-4b5f-8e22-661e476de0de",
   "metadata": {},
   "outputs": [
    {
     "data": {
      "text/html": [
       "<div>\n",
       "<style scoped>\n",
       "    .dataframe tbody tr th:only-of-type {\n",
       "        vertical-align: middle;\n",
       "    }\n",
       "\n",
       "    .dataframe tbody tr th {\n",
       "        vertical-align: top;\n",
       "    }\n",
       "\n",
       "    .dataframe thead th {\n",
       "        text-align: right;\n",
       "    }\n",
       "</style>\n",
       "<table border=\"1\" class=\"dataframe\">\n",
       "  <thead>\n",
       "    <tr style=\"text-align: right;\">\n",
       "      <th></th>\n",
       "      <th>A</th>\n",
       "      <th>B</th>\n",
       "      <th>C</th>\n",
       "      <th>D</th>\n",
       "      <th>E</th>\n",
       "      <th>F</th>\n",
       "    </tr>\n",
       "  </thead>\n",
       "  <tbody>\n",
       "    <tr>\n",
       "      <th>2024-02-11</th>\n",
       "      <td>0.680291</td>\n",
       "      <td>0.005777</td>\n",
       "      <td>0.740727</td>\n",
       "      <td>0.004935</td>\n",
       "      <td>0.367725</td>\n",
       "      <td>0.712375</td>\n",
       "    </tr>\n",
       "    <tr>\n",
       "      <th>2024-02-12</th>\n",
       "      <td>0.991630</td>\n",
       "      <td>0.773904</td>\n",
       "      <td>0.091626</td>\n",
       "      <td>0.266065</td>\n",
       "      <td>0.236217</td>\n",
       "      <td>0.345944</td>\n",
       "    </tr>\n",
       "    <tr>\n",
       "      <th>2024-02-13</th>\n",
       "      <td>0.467223</td>\n",
       "      <td>0.292169</td>\n",
       "      <td>0.838779</td>\n",
       "      <td>0.838643</td>\n",
       "      <td>0.274071</td>\n",
       "      <td>0.004971</td>\n",
       "    </tr>\n",
       "    <tr>\n",
       "      <th>2024-02-14</th>\n",
       "      <td>0.248873</td>\n",
       "      <td>0.166674</td>\n",
       "      <td>0.824907</td>\n",
       "      <td>0.804365</td>\n",
       "      <td>0.557244</td>\n",
       "      <td>0.745644</td>\n",
       "    </tr>\n",
       "    <tr>\n",
       "      <th>2024-02-15</th>\n",
       "      <td>0.319911</td>\n",
       "      <td>0.589552</td>\n",
       "      <td>0.955115</td>\n",
       "      <td>0.749849</td>\n",
       "      <td>0.189595</td>\n",
       "      <td>0.591853</td>\n",
       "    </tr>\n",
       "    <tr>\n",
       "      <th>2024-02-16</th>\n",
       "      <td>0.965109</td>\n",
       "      <td>0.867696</td>\n",
       "      <td>0.866947</td>\n",
       "      <td>0.241503</td>\n",
       "      <td>0.395500</td>\n",
       "      <td>0.622363</td>\n",
       "    </tr>\n",
       "  </tbody>\n",
       "</table>\n",
       "</div>"
      ],
      "text/plain": [
       "                   A         B         C         D         E         F\n",
       "2024-02-11  0.680291  0.005777  0.740727  0.004935  0.367725  0.712375\n",
       "2024-02-12  0.991630  0.773904  0.091626  0.266065  0.236217  0.345944\n",
       "2024-02-13  0.467223  0.292169  0.838779  0.838643  0.274071  0.004971\n",
       "2024-02-14  0.248873  0.166674  0.824907  0.804365  0.557244  0.745644\n",
       "2024-02-15  0.319911  0.589552  0.955115  0.749849  0.189595  0.591853\n",
       "2024-02-16  0.965109  0.867696  0.866947  0.241503  0.395500  0.622363"
      ]
     },
     "execution_count": 5,
     "metadata": {},
     "output_type": "execute_result"
    }
   ],
   "source": [
    "df = pd.DataFrame(data=rand_data, index=index, columns=label)\n",
    "\n",
    "df"
   ]
  },
  {
   "cell_type": "code",
   "execution_count": null,
   "id": "c01fe607-ef2d-4288-b5fb-259769e0de61",
   "metadata": {},
   "outputs": [],
   "source": []
  },
  {
   "cell_type": "code",
   "execution_count": 6,
   "id": "5cd2ccb8-a340-412c-b8fc-e72e918ecd17",
   "metadata": {
    "scrolled": true
   },
   "outputs": [],
   "source": [
    "data_table = {\n",
    "    \"A\": [\"car\", \"rac\"],\n",
    "    \"B\": [\"pool\", \"loop\"],\n",
    "    \"C\": [\"elephant\", \"tnahpele\"],\n",
    "    \"D\": [\"zoo\", \"ooz\"],\n",
    "    \"E\": [\"lapis\", \"sipal\"],\n",
    "    \"F\": [\"ball\", \"llab\"],\n",
    "}"
   ]
  },
  {
   "cell_type": "code",
   "execution_count": 7,
   "id": "f7e312cd-9235-4cea-b4a9-78e08a0d7482",
   "metadata": {},
   "outputs": [],
   "source": [
    "df2 = pd.DataFrame(data=data_table, index=[\"x\",\"y\"])"
   ]
  },
  {
   "cell_type": "code",
   "execution_count": 8,
   "id": "7439dddb-c273-47ed-8d47-a85bc920e350",
   "metadata": {},
   "outputs": [
    {
     "data": {
      "text/html": [
       "<div>\n",
       "<style scoped>\n",
       "    .dataframe tbody tr th:only-of-type {\n",
       "        vertical-align: middle;\n",
       "    }\n",
       "\n",
       "    .dataframe tbody tr th {\n",
       "        vertical-align: top;\n",
       "    }\n",
       "\n",
       "    .dataframe thead th {\n",
       "        text-align: right;\n",
       "    }\n",
       "</style>\n",
       "<table border=\"1\" class=\"dataframe\">\n",
       "  <thead>\n",
       "    <tr style=\"text-align: right;\">\n",
       "      <th></th>\n",
       "      <th>A</th>\n",
       "      <th>B</th>\n",
       "      <th>C</th>\n",
       "      <th>D</th>\n",
       "      <th>E</th>\n",
       "      <th>F</th>\n",
       "    </tr>\n",
       "  </thead>\n",
       "  <tbody>\n",
       "    <tr>\n",
       "      <th>x</th>\n",
       "      <td>car</td>\n",
       "      <td>pool</td>\n",
       "      <td>elephant</td>\n",
       "      <td>zoo</td>\n",
       "      <td>lapis</td>\n",
       "      <td>ball</td>\n",
       "    </tr>\n",
       "    <tr>\n",
       "      <th>y</th>\n",
       "      <td>rac</td>\n",
       "      <td>loop</td>\n",
       "      <td>tnahpele</td>\n",
       "      <td>ooz</td>\n",
       "      <td>sipal</td>\n",
       "      <td>llab</td>\n",
       "    </tr>\n",
       "  </tbody>\n",
       "</table>\n",
       "</div>"
      ],
      "text/plain": [
       "     A     B         C    D      E     F\n",
       "x  car  pool  elephant  zoo  lapis  ball\n",
       "y  rac  loop  tnahpele  ooz  sipal  llab"
      ]
     },
     "execution_count": 8,
     "metadata": {},
     "output_type": "execute_result"
    }
   ],
   "source": [
    "df2"
   ]
  },
  {
   "cell_type": "code",
   "execution_count": null,
   "id": "2665f488-4919-4c5d-a7da-79218ac1ca9d",
   "metadata": {},
   "outputs": [],
   "source": []
  },
  {
   "cell_type": "code",
   "execution_count": 9,
   "id": "e8186e2c-0540-4e95-84c7-bfa0e8bd7471",
   "metadata": {},
   "outputs": [],
   "source": [
    "# IMPORTING TABLE"
   ]
  },
  {
   "cell_type": "code",
   "execution_count": 10,
   "id": "5bf586ed-0a4a-4d26-8000-88f273a88e49",
   "metadata": {},
   "outputs": [],
   "source": [
    "table = pd.read_csv(filepath_or_buffer=\"lame_table.csv\", dtype=\"object\")"
   ]
  },
  {
   "cell_type": "code",
   "execution_count": 11,
   "id": "8da99c67-822a-47ef-a195-df4d2b6599cc",
   "metadata": {},
   "outputs": [
    {
     "data": {
      "text/html": [
       "<div>\n",
       "<style scoped>\n",
       "    .dataframe tbody tr th:only-of-type {\n",
       "        vertical-align: middle;\n",
       "    }\n",
       "\n",
       "    .dataframe tbody tr th {\n",
       "        vertical-align: top;\n",
       "    }\n",
       "\n",
       "    .dataframe thead th {\n",
       "        text-align: right;\n",
       "    }\n",
       "</style>\n",
       "<table border=\"1\" class=\"dataframe\">\n",
       "  <thead>\n",
       "    <tr style=\"text-align: right;\">\n",
       "      <th></th>\n",
       "      <th>ColumnA</th>\n",
       "      <th>ColumnB</th>\n",
       "      <th>ColumnC</th>\n",
       "      <th>ColumnD</th>\n",
       "    </tr>\n",
       "  </thead>\n",
       "  <tbody>\n",
       "    <tr>\n",
       "      <th>0</th>\n",
       "      <td>123</td>\n",
       "      <td>abc</td>\n",
       "      <td>45.67</td>\n",
       "      <td>true</td>\n",
       "    </tr>\n",
       "    <tr>\n",
       "      <th>1</th>\n",
       "      <td>987</td>\n",
       "      <td>def</td>\n",
       "      <td>32.10</td>\n",
       "      <td>false</td>\n",
       "    </tr>\n",
       "    <tr>\n",
       "      <th>2</th>\n",
       "      <td>654</td>\n",
       "      <td>ghi</td>\n",
       "      <td>78.90</td>\n",
       "      <td>true</td>\n",
       "    </tr>\n",
       "    <tr>\n",
       "      <th>3</th>\n",
       "      <td>321</td>\n",
       "      <td>jkl</td>\n",
       "      <td>15.23</td>\n",
       "      <td>false</td>\n",
       "    </tr>\n",
       "    <tr>\n",
       "      <th>4</th>\n",
       "      <td>789</td>\n",
       "      <td>mno</td>\n",
       "      <td>63.45</td>\n",
       "      <td>true</td>\n",
       "    </tr>\n",
       "  </tbody>\n",
       "</table>\n",
       "</div>"
      ],
      "text/plain": [
       "  ColumnA ColumnB ColumnC ColumnD\n",
       "0     123     abc   45.67    true\n",
       "1     987     def   32.10   false\n",
       "2     654     ghi   78.90    true\n",
       "3     321     jkl   15.23   false\n",
       "4     789     mno   63.45    true"
      ]
     },
     "execution_count": 11,
     "metadata": {},
     "output_type": "execute_result"
    }
   ],
   "source": [
    "table"
   ]
  },
  {
   "cell_type": "code",
   "execution_count": 12,
   "id": "fc5de0cd-1f9f-4db5-877f-65afdfaf03a5",
   "metadata": {},
   "outputs": [
    {
     "data": {
      "text/plain": [
       "ColumnA      654\n",
       "ColumnB      ghi\n",
       "ColumnC    78.90\n",
       "ColumnD     true\n",
       "Name: 2, dtype: object"
      ]
     },
     "execution_count": 12,
     "metadata": {},
     "output_type": "execute_result"
    }
   ],
   "source": [
    "_2th_row = table.iloc[2]\n",
    "_2th_row"
   ]
  },
  {
   "cell_type": "code",
   "execution_count": 13,
   "id": "85219e0e-7859-4c0f-8679-78898584cae8",
   "metadata": {},
   "outputs": [
    {
     "data": {
      "text/plain": [
       "0    45.67\n",
       "1    32.10\n",
       "2    78.90\n",
       "3    15.23\n",
       "4    63.45\n",
       "Name: ColumnC, dtype: object"
      ]
     },
     "execution_count": 13,
     "metadata": {},
     "output_type": "execute_result"
    }
   ],
   "source": [
    "column_columnc = table[\"ColumnC\"]\n",
    "column_columnc"
   ]
  },
  {
   "cell_type": "code",
   "execution_count": 14,
   "id": "89892ba0-c1dc-4732-9821-9bce70a93ddb",
   "metadata": {},
   "outputs": [],
   "source": [
    "table = table.rename(index={2: \"¬_¬\"})"
   ]
  },
  {
   "cell_type": "code",
   "execution_count": 15,
   "id": "e875b4da-8138-408f-a151-5873701fc08f",
   "metadata": {},
   "outputs": [
    {
     "data": {
      "text/html": [
       "<div>\n",
       "<style scoped>\n",
       "    .dataframe tbody tr th:only-of-type {\n",
       "        vertical-align: middle;\n",
       "    }\n",
       "\n",
       "    .dataframe tbody tr th {\n",
       "        vertical-align: top;\n",
       "    }\n",
       "\n",
       "    .dataframe thead th {\n",
       "        text-align: right;\n",
       "    }\n",
       "</style>\n",
       "<table border=\"1\" class=\"dataframe\">\n",
       "  <thead>\n",
       "    <tr style=\"text-align: right;\">\n",
       "      <th></th>\n",
       "      <th>ColumnA</th>\n",
       "      <th>ColumnB</th>\n",
       "      <th>ColumnC</th>\n",
       "      <th>ColumnD</th>\n",
       "    </tr>\n",
       "  </thead>\n",
       "  <tbody>\n",
       "    <tr>\n",
       "      <th>0</th>\n",
       "      <td>123</td>\n",
       "      <td>abc</td>\n",
       "      <td>45.67</td>\n",
       "      <td>true</td>\n",
       "    </tr>\n",
       "    <tr>\n",
       "      <th>1</th>\n",
       "      <td>987</td>\n",
       "      <td>def</td>\n",
       "      <td>32.10</td>\n",
       "      <td>false</td>\n",
       "    </tr>\n",
       "    <tr>\n",
       "      <th>¬_¬</th>\n",
       "      <td>654</td>\n",
       "      <td>ghi</td>\n",
       "      <td>78.90</td>\n",
       "      <td>true</td>\n",
       "    </tr>\n",
       "    <tr>\n",
       "      <th>3</th>\n",
       "      <td>321</td>\n",
       "      <td>jkl</td>\n",
       "      <td>15.23</td>\n",
       "      <td>false</td>\n",
       "    </tr>\n",
       "    <tr>\n",
       "      <th>4</th>\n",
       "      <td>789</td>\n",
       "      <td>mno</td>\n",
       "      <td>63.45</td>\n",
       "      <td>true</td>\n",
       "    </tr>\n",
       "  </tbody>\n",
       "</table>\n",
       "</div>"
      ],
      "text/plain": [
       "    ColumnA ColumnB ColumnC ColumnD\n",
       "0       123     abc   45.67    true\n",
       "1       987     def   32.10   false\n",
       "¬_¬     654     ghi   78.90    true\n",
       "3       321     jkl   15.23   false\n",
       "4       789     mno   63.45    true"
      ]
     },
     "execution_count": 15,
     "metadata": {},
     "output_type": "execute_result"
    }
   ],
   "source": [
    "table"
   ]
  },
  {
   "cell_type": "code",
   "execution_count": 16,
   "id": "8bd313dd-d70c-4cb2-bd10-2f11876136c7",
   "metadata": {},
   "outputs": [
    {
     "data": {
      "text/html": [
       "<div>\n",
       "<style scoped>\n",
       "    .dataframe tbody tr th:only-of-type {\n",
       "        vertical-align: middle;\n",
       "    }\n",
       "\n",
       "    .dataframe tbody tr th {\n",
       "        vertical-align: top;\n",
       "    }\n",
       "\n",
       "    .dataframe thead th {\n",
       "        text-align: right;\n",
       "    }\n",
       "</style>\n",
       "<table border=\"1\" class=\"dataframe\">\n",
       "  <thead>\n",
       "    <tr style=\"text-align: right;\">\n",
       "      <th></th>\n",
       "      <th>ColumnA</th>\n",
       "      <th>ColumnB</th>\n",
       "      <th>&gt;:(</th>\n",
       "      <th>ColumnD</th>\n",
       "    </tr>\n",
       "  </thead>\n",
       "  <tbody>\n",
       "    <tr>\n",
       "      <th>0</th>\n",
       "      <td>123</td>\n",
       "      <td>abc</td>\n",
       "      <td>45.67</td>\n",
       "      <td>true</td>\n",
       "    </tr>\n",
       "    <tr>\n",
       "      <th>1</th>\n",
       "      <td>987</td>\n",
       "      <td>def</td>\n",
       "      <td>32.10</td>\n",
       "      <td>false</td>\n",
       "    </tr>\n",
       "    <tr>\n",
       "      <th>¬_¬</th>\n",
       "      <td>654</td>\n",
       "      <td>ghi</td>\n",
       "      <td>78.90</td>\n",
       "      <td>true</td>\n",
       "    </tr>\n",
       "    <tr>\n",
       "      <th>3</th>\n",
       "      <td>321</td>\n",
       "      <td>jkl</td>\n",
       "      <td>15.23</td>\n",
       "      <td>false</td>\n",
       "    </tr>\n",
       "    <tr>\n",
       "      <th>4</th>\n",
       "      <td>789</td>\n",
       "      <td>mno</td>\n",
       "      <td>63.45</td>\n",
       "      <td>true</td>\n",
       "    </tr>\n",
       "  </tbody>\n",
       "</table>\n",
       "</div>"
      ],
      "text/plain": [
       "    ColumnA ColumnB    >:( ColumnD\n",
       "0       123     abc  45.67    true\n",
       "1       987     def  32.10   false\n",
       "¬_¬     654     ghi  78.90    true\n",
       "3       321     jkl  15.23   false\n",
       "4       789     mno  63.45    true"
      ]
     },
     "execution_count": 16,
     "metadata": {},
     "output_type": "execute_result"
    }
   ],
   "source": [
    "table = table.rename(columns={\"ColumnC\": \">:(\"})\n",
    "table"
   ]
  },
  {
   "cell_type": "code",
   "execution_count": 17,
   "id": "11bccdd4-63db-4087-af76-f6eb52af224f",
   "metadata": {
    "scrolled": true
   },
   "outputs": [],
   "source": [
    "table.iloc[2] = [\"ψ(｀∇´)ψ\", \"ψ(｀∇´)ψ\", \"ψ(｀∇´)ψ\", \"ψ(｀∇´)ψ\"]"
   ]
  },
  {
   "cell_type": "code",
   "execution_count": 18,
   "id": "b999c8b4-b090-4595-833f-d724590ccf95",
   "metadata": {},
   "outputs": [
    {
     "data": {
      "text/html": [
       "<div>\n",
       "<style scoped>\n",
       "    .dataframe tbody tr th:only-of-type {\n",
       "        vertical-align: middle;\n",
       "    }\n",
       "\n",
       "    .dataframe tbody tr th {\n",
       "        vertical-align: top;\n",
       "    }\n",
       "\n",
       "    .dataframe thead th {\n",
       "        text-align: right;\n",
       "    }\n",
       "</style>\n",
       "<table border=\"1\" class=\"dataframe\">\n",
       "  <thead>\n",
       "    <tr style=\"text-align: right;\">\n",
       "      <th></th>\n",
       "      <th>ColumnA</th>\n",
       "      <th>ColumnB</th>\n",
       "      <th>&gt;:(</th>\n",
       "      <th>ColumnD</th>\n",
       "    </tr>\n",
       "  </thead>\n",
       "  <tbody>\n",
       "    <tr>\n",
       "      <th>0</th>\n",
       "      <td>123</td>\n",
       "      <td>abc</td>\n",
       "      <td>45.67</td>\n",
       "      <td>true</td>\n",
       "    </tr>\n",
       "    <tr>\n",
       "      <th>1</th>\n",
       "      <td>987</td>\n",
       "      <td>def</td>\n",
       "      <td>32.10</td>\n",
       "      <td>false</td>\n",
       "    </tr>\n",
       "    <tr>\n",
       "      <th>¬_¬</th>\n",
       "      <td>ψ(｀∇´)ψ</td>\n",
       "      <td>ψ(｀∇´)ψ</td>\n",
       "      <td>ψ(｀∇´)ψ</td>\n",
       "      <td>ψ(｀∇´)ψ</td>\n",
       "    </tr>\n",
       "    <tr>\n",
       "      <th>3</th>\n",
       "      <td>321</td>\n",
       "      <td>jkl</td>\n",
       "      <td>15.23</td>\n",
       "      <td>false</td>\n",
       "    </tr>\n",
       "    <tr>\n",
       "      <th>4</th>\n",
       "      <td>789</td>\n",
       "      <td>mno</td>\n",
       "      <td>63.45</td>\n",
       "      <td>true</td>\n",
       "    </tr>\n",
       "  </tbody>\n",
       "</table>\n",
       "</div>"
      ],
      "text/plain": [
       "     ColumnA  ColumnB      >:(  ColumnD\n",
       "0        123      abc    45.67     true\n",
       "1        987      def    32.10    false\n",
       "¬_¬  ψ(｀∇´)ψ  ψ(｀∇´)ψ  ψ(｀∇´)ψ  ψ(｀∇´)ψ\n",
       "3        321      jkl    15.23    false\n",
       "4        789      mno    63.45     true"
      ]
     },
     "execution_count": 18,
     "metadata": {},
     "output_type": "execute_result"
    }
   ],
   "source": [
    "table"
   ]
  },
  {
   "cell_type": "code",
   "execution_count": 19,
   "id": "8edefa08-a962-4707-8355-c4793bb83b6c",
   "metadata": {},
   "outputs": [
    {
     "data": {
      "text/html": [
       "<div>\n",
       "<style scoped>\n",
       "    .dataframe tbody tr th:only-of-type {\n",
       "        vertical-align: middle;\n",
       "    }\n",
       "\n",
       "    .dataframe tbody tr th {\n",
       "        vertical-align: top;\n",
       "    }\n",
       "\n",
       "    .dataframe thead th {\n",
       "        text-align: right;\n",
       "    }\n",
       "</style>\n",
       "<table border=\"1\" class=\"dataframe\">\n",
       "  <thead>\n",
       "    <tr style=\"text-align: right;\">\n",
       "      <th></th>\n",
       "      <th>ColumnA</th>\n",
       "      <th>ColumnB</th>\n",
       "      <th>&gt;:(</th>\n",
       "      <th>ColumnD</th>\n",
       "    </tr>\n",
       "  </thead>\n",
       "  <tbody>\n",
       "    <tr>\n",
       "      <th>0</th>\n",
       "      <td>123</td>\n",
       "      <td>A</td>\n",
       "      <td>45.67</td>\n",
       "      <td>true</td>\n",
       "    </tr>\n",
       "    <tr>\n",
       "      <th>1</th>\n",
       "      <td>987</td>\n",
       "      <td>A</td>\n",
       "      <td>32.10</td>\n",
       "      <td>false</td>\n",
       "    </tr>\n",
       "    <tr>\n",
       "      <th>¬_¬</th>\n",
       "      <td>ψ(｀∇´)ψ</td>\n",
       "      <td>A</td>\n",
       "      <td>ψ(｀∇´)ψ</td>\n",
       "      <td>ψ(｀∇´)ψ</td>\n",
       "    </tr>\n",
       "    <tr>\n",
       "      <th>3</th>\n",
       "      <td>321</td>\n",
       "      <td>A</td>\n",
       "      <td>15.23</td>\n",
       "      <td>false</td>\n",
       "    </tr>\n",
       "    <tr>\n",
       "      <th>4</th>\n",
       "      <td>789</td>\n",
       "      <td>A</td>\n",
       "      <td>63.45</td>\n",
       "      <td>true</td>\n",
       "    </tr>\n",
       "  </tbody>\n",
       "</table>\n",
       "</div>"
      ],
      "text/plain": [
       "     ColumnA ColumnB      >:(  ColumnD\n",
       "0        123       A    45.67     true\n",
       "1        987       A    32.10    false\n",
       "¬_¬  ψ(｀∇´)ψ       A  ψ(｀∇´)ψ  ψ(｀∇´)ψ\n",
       "3        321       A    15.23    false\n",
       "4        789       A    63.45     true"
      ]
     },
     "execution_count": 19,
     "metadata": {},
     "output_type": "execute_result"
    }
   ],
   "source": [
    "table[\"ColumnB\"] = [\"A\", \"A\", \"A\", \"A\", \"A\"]\n",
    "table"
   ]
  },
  {
   "cell_type": "code",
   "execution_count": 20,
   "id": "f84b642c-cbcb-4e4e-8714-f4a865157b8f",
   "metadata": {},
   "outputs": [],
   "source": [
    "table.iat[3,2] = \"＼（〇_ｏ）／\""
   ]
  },
  {
   "cell_type": "code",
   "execution_count": 21,
   "id": "2517ae84-b023-4592-b221-a1401269ac8b",
   "metadata": {
    "scrolled": true
   },
   "outputs": [
    {
     "data": {
      "text/html": [
       "<div>\n",
       "<style scoped>\n",
       "    .dataframe tbody tr th:only-of-type {\n",
       "        vertical-align: middle;\n",
       "    }\n",
       "\n",
       "    .dataframe tbody tr th {\n",
       "        vertical-align: top;\n",
       "    }\n",
       "\n",
       "    .dataframe thead th {\n",
       "        text-align: right;\n",
       "    }\n",
       "</style>\n",
       "<table border=\"1\" class=\"dataframe\">\n",
       "  <thead>\n",
       "    <tr style=\"text-align: right;\">\n",
       "      <th></th>\n",
       "      <th>ColumnA</th>\n",
       "      <th>ColumnB</th>\n",
       "      <th>&gt;:(</th>\n",
       "      <th>ColumnD</th>\n",
       "    </tr>\n",
       "  </thead>\n",
       "  <tbody>\n",
       "    <tr>\n",
       "      <th>0</th>\n",
       "      <td>123</td>\n",
       "      <td>A</td>\n",
       "      <td>45.67</td>\n",
       "      <td>true</td>\n",
       "    </tr>\n",
       "    <tr>\n",
       "      <th>1</th>\n",
       "      <td>987</td>\n",
       "      <td>A</td>\n",
       "      <td>32.10</td>\n",
       "      <td>false</td>\n",
       "    </tr>\n",
       "    <tr>\n",
       "      <th>¬_¬</th>\n",
       "      <td>ψ(｀∇´)ψ</td>\n",
       "      <td>A</td>\n",
       "      <td>ψ(｀∇´)ψ</td>\n",
       "      <td>ψ(｀∇´)ψ</td>\n",
       "    </tr>\n",
       "    <tr>\n",
       "      <th>3</th>\n",
       "      <td>321</td>\n",
       "      <td>A</td>\n",
       "      <td>＼（〇_ｏ）／</td>\n",
       "      <td>false</td>\n",
       "    </tr>\n",
       "    <tr>\n",
       "      <th>4</th>\n",
       "      <td>789</td>\n",
       "      <td>A</td>\n",
       "      <td>63.45</td>\n",
       "      <td>true</td>\n",
       "    </tr>\n",
       "  </tbody>\n",
       "</table>\n",
       "</div>"
      ],
      "text/plain": [
       "     ColumnA ColumnB      >:(  ColumnD\n",
       "0        123       A    45.67     true\n",
       "1        987       A    32.10    false\n",
       "¬_¬  ψ(｀∇´)ψ       A  ψ(｀∇´)ψ  ψ(｀∇´)ψ\n",
       "3        321       A  ＼（〇_ｏ）／    false\n",
       "4        789       A    63.45     true"
      ]
     },
     "execution_count": 21,
     "metadata": {},
     "output_type": "execute_result"
    }
   ],
   "source": [
    "table"
   ]
  },
  {
   "cell_type": "code",
   "execution_count": 22,
   "id": "2330c622-323d-4163-94c8-8c3b93eab8de",
   "metadata": {
    "scrolled": true
   },
   "outputs": [
    {
     "data": {
      "text/plain": [
       "0        45.67\n",
       "1        32.10\n",
       "¬_¬    ψ(｀∇´)ψ\n",
       "3      ＼（〇_ｏ）／\n",
       "4        63.45\n",
       "Name: >:(, dtype: object"
      ]
     },
     "execution_count": 22,
     "metadata": {},
     "output_type": "execute_result"
    }
   ],
   "source": [
    "c_column = table.iloc[:, 2]  # COLUMN\n",
    "c_column"
   ]
  },
  {
   "cell_type": "code",
   "execution_count": 23,
   "id": "5aad3dfe-e722-4e53-98d2-c67e1b660e60",
   "metadata": {},
   "outputs": [
    {
     "data": {
      "text/plain": [
       "ColumnA    ψ(｀∇´)ψ\n",
       "ColumnB          A\n",
       ">:(        ψ(｀∇´)ψ\n",
       "ColumnD    ψ(｀∇´)ψ\n",
       "Name: ¬_¬, dtype: object"
      ]
     },
     "execution_count": 23,
     "metadata": {},
     "output_type": "execute_result"
    }
   ],
   "source": [
    "row_2 = table.iloc[2]  # ROW\n",
    "row_2"
   ]
  },
  {
   "cell_type": "code",
   "execution_count": 24,
   "id": "f743554d-188a-4179-bc21-dd850de4b3c2",
   "metadata": {},
   "outputs": [
    {
     "data": {
      "text/plain": [
       "'true'"
      ]
     },
     "execution_count": 24,
     "metadata": {},
     "output_type": "execute_result"
    }
   ],
   "source": [
    "value_on_4_3 = table.iat[4,3]  # Row, column\n",
    "value_on_4_3"
   ]
  },
  {
   "cell_type": "code",
   "execution_count": 25,
   "id": "aa51ce7c-7324-4509-a7be-d6f0240aa1fb",
   "metadata": {},
   "outputs": [
    {
     "data": {
      "text/plain": [
       "Index([0, 1, '¬_¬', 3, 4], dtype='object')"
      ]
     },
     "execution_count": 25,
     "metadata": {},
     "output_type": "execute_result"
    }
   ],
   "source": [
    "table.index"
   ]
  },
  {
   "cell_type": "code",
   "execution_count": 37,
   "id": "71790123-b367-4c6d-9c00-0af201956329",
   "metadata": {},
   "outputs": [],
   "source": [
    "table.to_csv(\"lame_table_final.csv\",  index=False)"
   ]
  },
  {
   "cell_type": "code",
   "execution_count": null,
   "id": "ed7ec4cc-bc06-4a13-9937-496337d75e41",
   "metadata": {},
   "outputs": [],
   "source": []
  }
 ],
 "metadata": {
  "kernelspec": {
   "display_name": "Python 3 (ipykernel)",
   "language": "python",
   "name": "python3"
  },
  "language_info": {
   "codemirror_mode": {
    "name": "ipython",
    "version": 3
   },
   "file_extension": ".py",
   "mimetype": "text/x-python",
   "name": "python",
   "nbconvert_exporter": "python",
   "pygments_lexer": "ipython3",
   "version": "3.11.4"
  }
 },
 "nbformat": 4,
 "nbformat_minor": 5
}
