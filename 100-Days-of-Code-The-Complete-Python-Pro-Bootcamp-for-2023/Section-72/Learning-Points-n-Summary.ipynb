{
 "cells": [
  {
   "cell_type": "code",
   "execution_count": 1,
   "id": "1ec2550f-9b71-4d8f-8472-d2d177d4df46",
   "metadata": {},
   "outputs": [],
   "source": [
    "# Use .head(), .tail(), .shape and .columns \n",
    "# to explore your DataFTo create an Excel Style Pivot Table by grouping entries that belong to a particular category use the .groupby() method"
   ]
  },
  {
   "cell_type": "code",
   "execution_count": 2,
   "id": "7973f2a4-50e2-43fd-86b4-773b0a36c8fd",
   "metadata": {},
   "outputs": [],
   "source": [
    "# Look for NaN (not a number) values with .findna() and consider using .dropna() \n",
    "# to clean up your DataFrame. "
   ]
  },
  {
   "cell_type": "code",
   "execution_count": 3,
   "id": "97825b17-88ed-4128-ad74-fdee656d9ed7",
   "metadata": {},
   "outputs": [],
   "source": [
    "# You can access entire columns of a DataFrame using the square bracket notation: \n",
    "# df['column name'] or df[['column name 1', 'column name 2', 'column name 3']]"
   ]
  },
  {
   "cell_type": "code",
   "execution_count": 4,
   "id": "476f7d5c-fe8e-42c1-8eca-200a904d2348",
   "metadata": {},
   "outputs": [],
   "source": [
    "# You can access individual cells in a DataFrame by chaining square brackets \n",
    "# df['column name'][index] or using df['column name'].loc[index]"
   ]
  },
  {
   "cell_type": "code",
   "execution_count": 5,
   "id": "d69c070f-3d66-4f5b-81a2-d260b843d0e0",
   "metadata": {},
   "outputs": [],
   "source": [
    "# The largest and smallest values, as well as their positions, can be found with methods like \n",
    "# .max(), .min(), .idxmax() and .idxmin()"
   ]
  },
  {
   "cell_type": "code",
   "execution_count": 6,
   "id": "160de203-1c55-4d7d-8f4e-58816d07dfb6",
   "metadata": {},
   "outputs": [],
   "source": [
    "# You can sort the DataFrame with  .sort_values()\n",
    "# and add new columns with  .insert()"
   ]
  },
  {
   "cell_type": "code",
   "execution_count": 7,
   "id": "3ecab381-3a93-419b-9339-52dea04acca0",
   "metadata": {},
   "outputs": [],
   "source": [
    "# To create an Excel Style Pivot Table by grouping entries that belong to a particular category use the method\n",
    "# .groupby()"
   ]
  },
  {
   "cell_type": "code",
   "execution_count": null,
   "id": "0198e3cd-3374-4d38-bafb-794c6ffb71d0",
   "metadata": {},
   "outputs": [],
   "source": []
  },
  {
   "cell_type": "code",
   "execution_count": 8,
   "id": "eecced4f-deec-4588-acfe-e4082408e473",
   "metadata": {},
   "outputs": [],
   "source": [
    "# df.iloc[]\n",
    "# Integer-based indexing for selecting rows and columns in pandas DataFrame.\n",
    "# df.iloc[:, 0]  # [:, 0] Means all rows and column 0"
   ]
  },
  {
   "cell_type": "code",
   "execution_count": 9,
   "id": "534bc4d4-c619-4c6c-8677-88ece16d1ff3",
   "metadata": {},
   "outputs": [],
   "source": [
    "# df.iloc[:, 4] - df.iloc[:, 3]\n",
    "# df.iloc[:, 4].subtract(df.iloc[:, 3])\n",
    "# Subtraction of the 4th column of DataFrame df from the 3rd column of df"
   ]
  },
  {
   "cell_type": "code",
   "execution_count": 10,
   "id": "3f32eab7-ad6d-4347-a6ef-6c13d685faaa",
   "metadata": {},
   "outputs": [],
   "source": [
    "# new_df = df.copy() \n",
    "# copy a DataFrame"
   ]
  },
  {
   "cell_type": "code",
   "execution_count": 11,
   "id": "05993825-3d59-493a-8f4a-c44ed838ee5e",
   "metadata": {},
   "outputs": [],
   "source": [
    "# df.insert(0, \"New-Column\", data=df.iloc[:, 4] - df.iloc[:, 3])\n",
    "# 0 is the 1st column to be inserted; \"New-Column\" column's name\n",
    "# and the data values data=[]"
   ]
  },
  {
   "cell_type": "code",
   "execution_count": 12,
   "id": "dc608080-f113-4e51-9b73-8d4d019db143",
   "metadata": {},
   "outputs": [],
   "source": [
    "# bad_values_dbug = df[df.isnull().any(axis=1)\n",
    "# Returns all rows where at least one value is NaN (for debugging)"
   ]
  },
  {
   "cell_type": "code",
   "execution_count": 13,
   "id": "b328887f-bafd-47f9-92e4-13b2cddd74dc",
   "metadata": {},
   "outputs": [],
   "source": [
    "# custom_df_sorted = custom_df.sort_values(\"Spread\", ascending=False) \n",
    "# Sorts the DataFrame by \"Spread\" in descending order\n",
    "\n",
    "# custom_df_new_index = custom_df_sorted.reset_index(drop=True) \n",
    "# Resets the index of the sorted DataFrame, \n",
    "# removing the old index for a clean new one"
   ]
  },
  {
   "cell_type": "code",
   "execution_count": 14,
   "id": "3c03bc6d-4223-46ea-a094-0e976b4fd406",
   "metadata": {},
   "outputs": [],
   "source": [
    "# groups_num_df = custom_df_sorted.groupby(\"Group\").mean(numeric_only=True) \n",
    "# Groups the DataFrame by \"Group\" \n",
    "# and calculates the mean of numeric columns only"
   ]
  },
  {
   "cell_type": "code",
   "execution_count": 15,
   "id": "23728019-98b5-4cf5-8b0f-656e30e334d4",
   "metadata": {},
   "outputs": [],
   "source": [
    "# pd.options.display.float_format = '{:,.2f}'.format\n",
    "# Sets the global display format for floating-point numbers to \n",
    "# show two decimal places with thousands separators\n",
    "\n",
    "# groups_num_df.style.format('{:,.2f}') \n",
    "# Formats the numeric values to display with two decimal places and \n",
    "# thousands separators"
   ]
  },
  {
   "cell_type": "code",
   "execution_count": null,
   "id": "75c74028-164f-4283-aee3-6b52a49eb7f9",
   "metadata": {},
   "outputs": [],
   "source": []
  }
 ],
 "metadata": {
  "kernelspec": {
   "display_name": "Python 3 (ipykernel)",
   "language": "python",
   "name": "python3"
  },
  "language_info": {
   "codemirror_mode": {
    "name": "ipython",
    "version": 3
   },
   "file_extension": ".py",
   "mimetype": "text/x-python",
   "name": "python",
   "nbconvert_exporter": "python",
   "pygments_lexer": "ipython3",
   "version": "3.11.4"
  }
 },
 "nbformat": 4,
 "nbformat_minor": 5
}
