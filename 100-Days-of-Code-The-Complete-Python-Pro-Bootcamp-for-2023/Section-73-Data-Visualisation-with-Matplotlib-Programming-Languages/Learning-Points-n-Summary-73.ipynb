{
 "cells": [
  {
   "cell_type": "markdown",
   "id": "fd47bcb3-6680-44e0-86e3-7476d08504f6",
   "metadata": {},
   "source": [
    "- Used `.groupby()` to explore the number of posts and entries per programming language.\n",
    "  \n",
    "- Converted strings to Datetime objects with `to_datetime()` for easier plotting.\n",
    "\n",
    "\n",
    "- Reshaped our DataFrame by converting categories to columns using `.pivot()`.\n",
    "\n",
    "\n",
    "- Used `.count()` and `isna().values.any()` to look for NaN values in our DataFrame, which we then replaced using `.fillna()`.\n",
    "\n",
    "\n",
    "- Created (multiple) line charts using `.plot()` with a for-loop.\n",
    "\n",
    "\n",
    "- Styled our charts by changing the size, the labels, and the upper and lower bounds of our axis.\n",
    "\n",
    "\n",
    "- Added a legend to tell apart which line is which by color.\n",
    "\n",
    "\n",
    "- Smoothed out our time-series observations with `.rolling().mean()` and plotted them to better identify trends over time.\n"
   ]
  },
  {
   "cell_type": "code",
   "execution_count": null,
   "id": "d03b368e-b784-4659-8cfd-a9951e6b7468",
   "metadata": {},
   "outputs": [],
   "source": []
  }
 ],
 "metadata": {
  "kernelspec": {
   "display_name": "Python 3 (ipykernel)",
   "language": "python",
   "name": "python3"
  },
  "language_info": {
   "codemirror_mode": {
    "name": "ipython",
    "version": 3
   },
   "file_extension": ".py",
   "mimetype": "text/x-python",
   "name": "python",
   "nbconvert_exporter": "python",
   "pygments_lexer": "ipython3",
   "version": "3.11.4"
  }
 },
 "nbformat": 4,
 "nbformat_minor": 5
}
